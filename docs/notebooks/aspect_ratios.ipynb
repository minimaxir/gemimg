{
 "cells": [
  {
   "cell_type": "markdown",
   "id": "b0c1713e",
   "metadata": {},
   "source": [
    "# Aspect Ratios\n"
   ]
  },
  {
   "cell_type": "code",
   "execution_count": null,
   "id": "27803e1a",
   "metadata": {},
   "outputs": [],
   "source": [
    "from gemimg import GemImg"
   ]
  },
  {
   "cell_type": "code",
   "execution_count": 2,
   "id": "ec758344",
   "metadata": {},
   "outputs": [
    {
     "data": {
      "text/plain": [
       "GemImg(model='gemini-2.5-flash-image')"
      ]
     },
     "execution_count": 2,
     "metadata": {},
     "output_type": "execute_result"
    }
   ],
   "source": [
    "g = GemImg()\n",
    "g"
   ]
  },
  {
   "cell_type": "code",
   "execution_count": 32,
   "id": "35570e48",
   "metadata": {},
   "outputs": [
    {
     "data": {
      "text/plain": [
       "'jp7haNbhEqSoqtsP5M6hqQ8.png'"
      ]
     },
     "execution_count": 32,
     "metadata": {},
     "output_type": "execute_result"
    }
   ],
   "source": [
    "prompt = \"\"\"\n",
    "Create an image featuring three specific kittens in three specific positions.\n",
    "\n",
    "All of the kittens MUST follow these descriptions EXACTLY:\n",
    "- Left: a kitten with prominent black-and-silver fur, wearing both blue denim overalls and a blue plain denim baseball hat.\n",
    "- Middle: a kitten with prominent white-and-gold fur and prominent gold-colored long goatee facial hair, wearing a 24k-carat golden monocle.\n",
    "- Right: a kitten with prominent #9F2B68-and-#00FF00 fur, wearing a San Franciso Giants sports jersey.\n",
    "\n",
    "Aspects of the image composition that MUST be followed EXACTLY:\n",
    "- All kittens MUST be positioned according to the \"rule of thirds\" both horizontally and vertically.\n",
    "- All kittens MUST lay prone, facing the camera.\n",
    "- All kittens MUST have heterochromatic eye colors matching their two specified fur colors.\n",
    "- The image is shot on top of a bed in a multimillion-dollar Victorian mansion.\n",
    "- The image is a Pulitzer Prize winning cover photo for The New York Times with neutral diffuse 3PM lighting for both the subjects and background that complement each other.\n",
    "- NEVER include any text, watermarks, or line overlays.\n",
    "\"\"\"\n",
    "\n",
    "gen = g.generate(prompt, aspect_ratio=\"1:1\")\n",
    "gen.image_path"
   ]
  },
  {
   "cell_type": "markdown",
   "id": "8b6fbb5b",
   "metadata": {},
   "source": [
    "![](gens/jp7haNbhEqSoqtsP5M6hqQ8.webp)\n"
   ]
  },
  {
   "cell_type": "markdown",
   "id": "1dc1e956",
   "metadata": {},
   "source": [
    "Test more aspect ratios: the aspect ratio should dictate the composition if it does indeed follow the rule of thirds.\n"
   ]
  },
  {
   "cell_type": "code",
   "execution_count": 33,
   "id": "5d4bf756",
   "metadata": {},
   "outputs": [
    {
     "data": {
      "text/plain": [
       "'s57haPv7FsOumtkP1e_mqQM.png'"
      ]
     },
     "execution_count": 33,
     "metadata": {},
     "output_type": "execute_result"
    }
   ],
   "source": [
    "gen = g.generate(prompt, aspect_ratio=\"16:9\")\n",
    "gen.image_path"
   ]
  },
  {
   "cell_type": "markdown",
   "id": "81ca8647",
   "metadata": {},
   "source": [
    "![](gens/s57haPv7FsOumtkP1e_mqQM.webp)\n"
   ]
  },
  {
   "cell_type": "code",
   "execution_count": 35,
   "id": "4b3fee5a",
   "metadata": {},
   "outputs": [
    {
     "data": {
      "text/plain": [
       "'_57haM2kFaSHz7IP77Xk6A4.png'"
      ]
     },
     "execution_count": 35,
     "metadata": {},
     "output_type": "execute_result"
    }
   ],
   "source": [
    "gen = g.generate(prompt, aspect_ratio=\"21:9\")\n",
    "gen.image_path"
   ]
  },
  {
   "cell_type": "markdown",
   "id": "dc12de79",
   "metadata": {},
   "source": [
    "![](gens/_57haM2kFaSHz7IP77Xk6A4.webp)\n"
   ]
  },
  {
   "cell_type": "code",
   "execution_count": 36,
   "id": "e9687948",
   "metadata": {},
   "outputs": [
    {
     "data": {
      "text/plain": [
       "'NJ_haJ-sFIbQz7IPjvuZmQ4.png'"
      ]
     },
     "execution_count": 36,
     "metadata": {},
     "output_type": "execute_result"
    }
   ],
   "source": [
    "gen = g.generate(prompt, aspect_ratio=\"4:5\")\n",
    "gen.image_path"
   ]
  },
  {
   "cell_type": "markdown",
   "id": "31bd97e4",
   "metadata": {},
   "source": [
    "![](gens/NJ_haJ-sFIbQz7IPjvuZmQ4.webp)\n"
   ]
  },
  {
   "cell_type": "markdown",
   "id": "450109f9",
   "metadata": {},
   "source": [
    "Test invalid aspect ratio:\n"
   ]
  },
  {
   "cell_type": "code",
   "execution_count": 37,
   "id": "e14d9e0d",
   "metadata": {},
   "outputs": [
    {
     "ename": "ValueError",
     "evalue": "'9:21' is invalid. Supported aspect ratios: 1:1, 2:3, 3:2, 3:4, 4:3, 4:5, 5:4, 9:16, 16:9, 21:9",
     "output_type": "error",
     "traceback": [
      "\u001b[31m---------------------------------------------------------------------------\u001b[39m",
      "\u001b[31mValueError\u001b[39m                                Traceback (most recent call last)",
      "\u001b[36mCell\u001b[39m\u001b[36m \u001b[39m\u001b[32mIn[37]\u001b[39m\u001b[32m, line 1\u001b[39m\n\u001b[32m----> \u001b[39m\u001b[32m1\u001b[39m gen = \u001b[43mg\u001b[49m\u001b[43m.\u001b[49m\u001b[43mgenerate\u001b[49m\u001b[43m(\u001b[49m\u001b[43mprompt\u001b[49m\u001b[43m,\u001b[49m\u001b[43m \u001b[49m\u001b[43maspect_ratio\u001b[49m\u001b[43m=\u001b[49m\u001b[33;43m\"\u001b[39;49m\u001b[33;43m9:21\u001b[39;49m\u001b[33;43m\"\u001b[39;49m\u001b[43m)\u001b[49m\n",
      "\u001b[36mFile \u001b[39m\u001b[32m~/Library/Mobile Documents/com~apple~CloudDocs/PythonProjects/gemimg/gemimg/gemimg.py:66\u001b[39m, in \u001b[36mGemImg.generate\u001b[39m\u001b[34m(self, prompt, imgs, aspect_ratio, resize_inputs, save, save_dir, temperature, webp, n)\u001b[39m\n\u001b[32m     60\u001b[39m \u001b[38;5;28;01mif\u001b[39;00m prompt:\n\u001b[32m     61\u001b[39m     parts.append({\u001b[33m\"\u001b[39m\u001b[33mtext\u001b[39m\u001b[33m\"\u001b[39m: prompt.strip()})\n\u001b[32m     63\u001b[39m query_params = {\n\u001b[32m     64\u001b[39m     \u001b[33m\"\u001b[39m\u001b[33mgenerationConfig\u001b[39m\u001b[33m\"\u001b[39m: {\n\u001b[32m     65\u001b[39m         \u001b[33m\"\u001b[39m\u001b[33mtemperature\u001b[39m\u001b[33m\"\u001b[39m: temperature,\n\u001b[32m---> \u001b[39m\u001b[32m66\u001b[39m         \u001b[33m\"\u001b[39m\u001b[33mimageConfig\u001b[39m\u001b[33m\"\u001b[39m: {\u001b[33m\"\u001b[39m\u001b[33maspectRatio\u001b[39m\u001b[33m\"\u001b[39m: \u001b[43m_validate_aspect\u001b[49m\u001b[43m(\u001b[49m\u001b[43maspect_ratio\u001b[49m\u001b[43m)\u001b[49m},\n\u001b[32m     67\u001b[39m         \u001b[33m\"\u001b[39m\u001b[33mresponseModalities\u001b[39m\u001b[33m\"\u001b[39m: [\u001b[33m\"\u001b[39m\u001b[33mImage\u001b[39m\u001b[33m\"\u001b[39m],\n\u001b[32m     68\u001b[39m     },\n\u001b[32m     69\u001b[39m     \u001b[33m\"\u001b[39m\u001b[33mcontents\u001b[39m\u001b[33m\"\u001b[39m: [{\u001b[33m\"\u001b[39m\u001b[33mparts\u001b[39m\u001b[33m\"\u001b[39m: parts}],\n\u001b[32m     70\u001b[39m }\n\u001b[32m     72\u001b[39m headers = {\u001b[33m\"\u001b[39m\u001b[33mContent-Type\u001b[39m\u001b[33m\"\u001b[39m: \u001b[33m\"\u001b[39m\u001b[33mapplication/json\u001b[39m\u001b[33m\"\u001b[39m, \u001b[33m\"\u001b[39m\u001b[33mx-goog-api-key\u001b[39m\u001b[33m\"\u001b[39m: \u001b[38;5;28mself\u001b[39m.api_key}\n\u001b[32m     73\u001b[39m api_url = \u001b[33mf\u001b[39m\u001b[33m\"\u001b[39m\u001b[33mhttps://generativelanguage.googleapis.com/v1beta/models/\u001b[39m\u001b[38;5;132;01m{\u001b[39;00m\u001b[38;5;28mself\u001b[39m.model\u001b[38;5;132;01m}\u001b[39;00m\u001b[33m:generateContent\u001b[39m\u001b[33m\"\u001b[39m\n",
      "\u001b[36mFile \u001b[39m\u001b[32m~/Library/Mobile Documents/com~apple~CloudDocs/PythonProjects/gemimg/gemimg/utils.py:27\u001b[39m, in \u001b[36m_validate_aspect\u001b[39m\u001b[34m(aspect_ratio)\u001b[39m\n\u001b[32m     25\u001b[39m \u001b[38;5;28;01mdef\u001b[39;00m\u001b[38;5;250m \u001b[39m\u001b[34m_validate_aspect\u001b[39m(aspect_ratio: \u001b[38;5;28mstr\u001b[39m) -> \u001b[38;5;28mstr\u001b[39m:\n\u001b[32m     26\u001b[39m     \u001b[38;5;28;01mif\u001b[39;00m aspect_ratio \u001b[38;5;129;01mnot\u001b[39;00m \u001b[38;5;129;01min\u001b[39;00m _VALID_ASPECTS_SET:\n\u001b[32m---> \u001b[39m\u001b[32m27\u001b[39m         \u001b[38;5;28;01mraise\u001b[39;00m \u001b[38;5;167;01mValueError\u001b[39;00m(\n\u001b[32m     28\u001b[39m             \u001b[33mf\u001b[39m\u001b[33m\"\u001b[39m\u001b[33m'\u001b[39m\u001b[38;5;132;01m{\u001b[39;00maspect_ratio\u001b[38;5;132;01m}\u001b[39;00m\u001b[33m'\u001b[39m\u001b[33m is invalid. \u001b[39m\u001b[33m\"\u001b[39m\n\u001b[32m     29\u001b[39m             \u001b[33mf\u001b[39m\u001b[33m\"\u001b[39m\u001b[33mSupported aspect ratios: \u001b[39m\u001b[38;5;132;01m{\u001b[39;00m\u001b[33m'\u001b[39m\u001b[33m, \u001b[39m\u001b[33m'\u001b[39m.join(VALID_ASPECTS)\u001b[38;5;132;01m}\u001b[39;00m\u001b[33m\"\u001b[39m\n\u001b[32m     30\u001b[39m         )\n\u001b[32m     31\u001b[39m     \u001b[38;5;28;01mreturn\u001b[39;00m aspect_ratio\n",
      "\u001b[31mValueError\u001b[39m: '9:21' is invalid. Supported aspect ratios: 1:1, 2:3, 3:2, 3:4, 4:3, 4:5, 5:4, 9:16, 16:9, 21:9"
     ]
    }
   ],
   "source": [
    "gen = g.generate(prompt, aspect_ratio=\"9:21\")"
   ]
  },
  {
   "cell_type": "code",
   "execution_count": null,
   "id": "6f5ce54e",
   "metadata": {},
   "outputs": [],
   "source": []
  }
 ],
 "metadata": {
  "kernelspec": {
   "display_name": "gemimg",
   "language": "python",
   "name": "python3"
  },
  "language_info": {
   "codemirror_mode": {
    "name": "ipython",
    "version": 3
   },
   "file_extension": ".py",
   "mimetype": "text/x-python",
   "name": "python",
   "nbconvert_exporter": "python",
   "pygments_lexer": "ipython3",
   "version": "3.13.7"
  }
 },
 "nbformat": 4,
 "nbformat_minor": 5
}
