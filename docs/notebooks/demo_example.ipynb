{
 "cells": [
  {
   "cell_type": "code",
   "execution_count": 1,
   "id": "27803e1a",
   "metadata": {},
   "outputs": [],
   "source": [
    "from gemimg import GemImg"
   ]
  },
  {
   "cell_type": "code",
   "execution_count": 2,
   "id": "ec758344",
   "metadata": {},
   "outputs": [
    {
     "data": {
      "text/plain": [
       "GemImg(model='gemini-2.5-flash-image-preview')"
      ]
     },
     "execution_count": 2,
     "metadata": {},
     "output_type": "execute_result"
    }
   ],
   "source": [
    "g = GemImg()\n",
    "g"
   ]
  },
  {
   "cell_type": "code",
   "execution_count": 4,
   "id": "35570e48",
   "metadata": {},
   "outputs": [
    {
     "data": {
      "text/plain": [
       "'7fm8aJD0Lp6ymtkPpqvn0QU.png'"
      ]
     },
     "execution_count": 4,
     "metadata": {},
     "output_type": "execute_result"
    }
   ],
   "source": [
    "prompt = \"\"\"\n",
    "Create an image of a three-dimensional pancake in the shape of a skull, garnished on top with blueberries and maple syrup.\n",
    "\"\"\"\n",
    "\n",
    "gen = g.generate(prompt)\n",
    "gen.image_path"
   ]
  },
  {
   "cell_type": "markdown",
   "id": "e3664c24",
   "metadata": {},
   "source": [
    "![](gens/7fm8aJD0Lp6ymtkPpqvn0QU@0.5x.webp)\n"
   ]
  },
  {
   "cell_type": "code",
   "execution_count": 6,
   "id": "4f227ddf",
   "metadata": {},
   "outputs": [
    {
     "data": {
      "text/plain": [
       "'Yfu8aIfpHufVz7IP4_WEsAc.png'"
      ]
     },
     "execution_count": 6,
     "metadata": {},
     "output_type": "execute_result"
    }
   ],
   "source": [
    "edit_prompt = \"\"\"\n",
    "Make ALL of the following edits to the image:\n",
    "- Put a strawberry in the left eye socket.\n",
    "- Put a blackberry in the right eye socket.\n",
    "- Put a mint garnish on top of the pancake.\n",
    "- Change the plate to a plate-shaped chocolate-chip cookie.\n",
    "- Add happy people to the background.\n",
    "\"\"\"\n",
    "\n",
    "gen_edit = g.generate(edit_prompt, gen.image)\n",
    "gen_edit.image_path"
   ]
  },
  {
   "cell_type": "markdown",
   "id": "6fff1d7d",
   "metadata": {},
   "source": [
    "![](gens/Yfu8aIfpHufVz7IP4_WEsAc@0.5x.webp)\n"
   ]
  },
  {
   "cell_type": "code",
   "execution_count": null,
   "id": "91c688d8",
   "metadata": {},
   "outputs": [],
   "source": []
  }
 ],
 "metadata": {
  "kernelspec": {
   "display_name": "gemimg",
   "language": "python",
   "name": "python3"
  },
  "language_info": {
   "codemirror_mode": {
    "name": "ipython",
    "version": 3
   },
   "file_extension": ".py",
   "mimetype": "text/x-python",
   "name": "python",
   "nbconvert_exporter": "python",
   "pygments_lexer": "ipython3",
   "version": "3.13.1"
  }
 },
 "nbformat": 4,
 "nbformat_minor": 5
}
