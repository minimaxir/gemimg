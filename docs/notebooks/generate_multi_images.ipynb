{
 "cells": [
  {
   "cell_type": "markdown",
   "id": "867389e7",
   "metadata": {},
   "source": [
    "## Generate Multiple Sequential Images from one prompt\n",
    "\n",
    "Gemini 2.5 Flash Image will only generate multiple images in a single prompt if explicitly prompted to do so, and it may not always obey. Each image will be saved individually, and all images can be retrieved as a `List` with `gen.images` and `gen.image_paths`.\n",
    "\n",
    "_**Maintainer's Note**: This workflow, following the examples provided by Google, is unwieldy and does not save much time or money over generating each image individually. It also doesn't work for use cases where you want to generate images sequentially, which can already be done with multi-turn approaches._\n"
   ]
  },
  {
   "cell_type": "code",
   "execution_count": 1,
   "id": "27803e1a",
   "metadata": {},
   "outputs": [],
   "source": [
    "from gemimg import GemImg\n",
    "from gemimg.utils import resize_image, composite_images"
   ]
  },
  {
   "cell_type": "code",
   "execution_count": 2,
   "id": "ec758344",
   "metadata": {},
   "outputs": [
    {
     "data": {
      "text/plain": [
       "GemImg(model='gemini-2.5-flash-image-preview')"
      ]
     },
     "execution_count": 2,
     "metadata": {},
     "output_type": "execute_result"
    }
   ],
   "source": [
    "g = GemImg()\n",
    "g"
   ]
  },
  {
   "cell_type": "code",
   "execution_count": 3,
   "id": "35570e48",
   "metadata": {},
   "outputs": [
    {
     "data": {
      "text/plain": [
       "['J0u-aKX_FufVz7IP4_WEsAc-0.png',\n",
       " 'J0u-aKX_FufVz7IP4_WEsAc-1.png',\n",
       " 'J0u-aKX_FufVz7IP4_WEsAc-2.png',\n",
       " 'J0u-aKX_FufVz7IP4_WEsAc-3.png']"
      ]
     },
     "execution_count": 3,
     "metadata": {},
     "output_type": "execute_result"
    }
   ],
   "source": [
    "prompt = \"\"\"\n",
    "Generate a 4 part story with 4 images depicting a very cute kitten with purple and green fur. The storyline follows the kitten trying to go viral on Instagram. The images should have a distinct, minimalistic and abstract style.\n",
    "\n",
    "Do NOT include text or dialogue in the images UNLESS the text is ALL of: highly concise, highly necessary, and funny.\n",
    "\"\"\"\n",
    "\n",
    "gen = g.generate(prompt)\n",
    "gen.image_paths  # should be 4 images"
   ]
  },
  {
   "cell_type": "markdown",
   "id": "a71a90a3",
   "metadata": {},
   "source": [
    "`gemimg.utils` includes a `composite_images()` function which can be used with multiple images to combine them into a grid. You can specify `row` and/or `col`: by default, it will combine them into a square if applicable. (i.e. a 2x2 grid if 4 images). This is also extremely useful with `resize_image`.\n"
   ]
  },
  {
   "cell_type": "code",
   "execution_count": 4,
   "id": "4f227ddf",
   "metadata": {},
   "outputs": [],
   "source": [
    "composite = composite_images(gen.images)\n",
    "composite = resize_image(composite, max_size=768)\n",
    "\n",
    "composite.save(\"composite.webp\")"
   ]
  },
  {
   "cell_type": "markdown",
   "id": "41223db6",
   "metadata": {},
   "source": [
    "![](gens/composite.webp)\n"
   ]
  }
 ],
 "metadata": {
  "kernelspec": {
   "display_name": "gemimg",
   "language": "python",
   "name": "python3"
  },
  "language_info": {
   "codemirror_mode": {
    "name": "ipython",
    "version": 3
   },
   "file_extension": ".py",
   "mimetype": "text/x-python",
   "name": "python",
   "nbconvert_exporter": "python",
   "pygments_lexer": "ipython3",
   "version": "3.13.1"
  }
 },
 "nbformat": 4,
 "nbformat_minor": 5
}
