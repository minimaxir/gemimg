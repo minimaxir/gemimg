{
 "cells": [
  {
   "cell_type": "markdown",
   "id": "5ac0b3d7",
   "metadata": {},
   "source": [
    "# Generating an image of a webpage using HTML\n",
    "\n",
    "_**Maintainer's Note**: There is likely no practical use case for this line of prompting, but it's a really cool test case._\n",
    "\n",
    "Due to Gemini 2.5 Image Flash's long context window (relative to models such as Flux Pro/Kontext), you can put a massive amount of data in the prompt. This includes HTML.\n",
    "\n",
    "[counter_app.html](../files/counter_app.html) is an AI-generated (i.e. not in the training dataset) single page application plain HTML, vanilla inline CSS, and vanilla JavaScript:\n",
    "\n",
    "![](gens/webpage_screenshot.png)\n",
    "\n",
    "Note the 1/3 sidebar and 2/3 body, and the styles (headers, sidebar/button colors).\n"
   ]
  },
  {
   "cell_type": "code",
   "execution_count": 1,
   "id": "27803e1a",
   "metadata": {},
   "outputs": [],
   "source": [
    "from gemimg import GemImg"
   ]
  },
  {
   "cell_type": "code",
   "execution_count": 2,
   "id": "ec758344",
   "metadata": {},
   "outputs": [
    {
     "data": {
      "text/plain": [
       "GemImg(model='gemini-2.5-flash-image')"
      ]
     },
     "execution_count": 2,
     "metadata": {},
     "output_type": "execute_result"
    }
   ],
   "source": [
    "g = GemImg()\n",
    "g"
   ]
  },
  {
   "cell_type": "code",
   "execution_count": 3,
   "id": "d49bfbec",
   "metadata": {},
   "outputs": [
    {
     "data": {
      "text/plain": [
       "'<!DOCTYPE html>\\n<html lang=\"en\">\\n  <head>\\n    <meta charset=\"UTF-8\" />\\n    <meta name=\"viewport\" con'"
      ]
     },
     "execution_count": 3,
     "metadata": {},
     "output_type": "execute_result"
    }
   ],
   "source": [
    "with open(\"../files/counter_app.html\", \"r\") as f:\n",
    "    html = f.read()\n",
    "\n",
    "html[:100]"
   ]
  },
  {
   "cell_type": "code",
   "execution_count": 7,
   "id": "35570e48",
   "metadata": {},
   "outputs": [
    {
     "data": {
      "text/plain": [
       "'Y3r1aPHnNIfiqtsP3_2XyA4.png'"
      ]
     },
     "execution_count": 7,
     "metadata": {},
     "output_type": "execute_result"
    }
   ],
   "source": [
    "prompt = f\"\"\"\n",
    "Create a rendering of the webpage represented by the provided HTML, CSS, and JavaScript. The rendered webpage MUST take up the complete image.\n",
    "---\n",
    "{html}\n",
    "\"\"\"\n",
    "\n",
    "gen = g.generate(prompt, aspect_ratio=\"4:3\")\n",
    "gen.image_path"
   ]
  },
  {
   "cell_type": "markdown",
   "id": "e37a8afa",
   "metadata": {},
   "source": [
    "![](gens/Y3r1aPHnNIfiqtsP3_2XyA4.webp)\n",
    "\n",
    "Close enough! At the least, it shows Gemini 2.5 Flash Image knows how to parse RGB hex codes into colors.\n"
   ]
  },
  {
   "cell_type": "code",
   "execution_count": 8,
   "id": "a61a6487",
   "metadata": {},
   "outputs": [
    {
     "data": {
      "text/plain": [
       "Usage(prompt_tokens=916, completion_tokens=1290)"
      ]
     },
     "execution_count": 8,
     "metadata": {},
     "output_type": "execute_result"
    }
   ],
   "source": [
    "gen.usage"
   ]
  }
 ],
 "metadata": {
  "kernelspec": {
   "display_name": "gemimg",
   "language": "python",
   "name": "python3"
  },
  "language_info": {
   "codemirror_mode": {
    "name": "ipython",
    "version": 3
   },
   "file_extension": ".py",
   "mimetype": "text/x-python",
   "name": "python",
   "nbconvert_exporter": "python",
   "pygments_lexer": "ipython3",
   "version": "3.13.7"
  }
 },
 "nbformat": 4,
 "nbformat_minor": 5
}
