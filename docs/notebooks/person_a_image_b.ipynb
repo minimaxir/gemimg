{
 "cells": [
  {
   "cell_type": "markdown",
   "id": "b0c1713e",
   "metadata": {},
   "source": [
    "# Put Person A into Image B\n"
   ]
  },
  {
   "cell_type": "code",
   "execution_count": 11,
   "id": "27803e1a",
   "metadata": {},
   "outputs": [],
   "source": [
    "from gemimg import GemImg\n",
    "from gemimg.utils import resize_image, composite_images\n",
    "from PIL import Image"
   ]
  },
  {
   "cell_type": "code",
   "execution_count": 2,
   "id": "ec758344",
   "metadata": {},
   "outputs": [
    {
     "data": {
      "text/plain": [
       "GemImg(model='gemini-2.5-flash-image-preview')"
      ]
     },
     "execution_count": 2,
     "metadata": {},
     "output_type": "execute_result"
    }
   ],
   "source": [
    "g = GemImg()\n",
    "g"
   ]
  },
  {
   "cell_type": "markdown",
   "id": "c4fda74d",
   "metadata": {},
   "source": [
    "This is Max Woolf, the maintainer of `gemimg`. Say hi.\n",
    "\n",
    "![](../files/max_woolf.webp)\n",
    "\n",
    "First, create a specific impossible image to superimpose Max in.\n"
   ]
  },
  {
   "cell_type": "code",
   "execution_count": 3,
   "id": "35570e48",
   "metadata": {},
   "outputs": [
    {
     "data": {
      "text/plain": [
       "'P3C-aNPVCeLRz7IP3tvHoQc.png'"
      ]
     },
     "execution_count": 3,
     "metadata": {},
     "output_type": "execute_result"
    }
   ],
   "source": [
    "prompt = \"\"\"\n",
    "Create an image of a hyperrealistic lava pool inside a volcano. The walls of the volcano are made out of pure obsidian and flecked with diamonds.\n",
    "\n",
    "The image is rendered with Unreal Engine 5 with Nanite technology and ray tracing enabled. Ultra quality. Ten million triangles.\n",
    "\"\"\"\n",
    "\n",
    "gen_volcano = g.generate(prompt)\n",
    "gen_volcano.image_path"
   ]
  },
  {
   "cell_type": "markdown",
   "id": "e977ac37",
   "metadata": {},
   "source": [
    "![](gens/P3C-aNPVCeLRz7IP3tvHoQc@0.5x.webp)\n"
   ]
  },
  {
   "cell_type": "markdown",
   "id": "4d24e082",
   "metadata": {},
   "source": [
    "Composite images to display for the README.\n"
   ]
  },
  {
   "cell_type": "code",
   "execution_count": 13,
   "id": "1a23970e",
   "metadata": {},
   "outputs": [],
   "source": [
    "img_max = resize_image(Image.open(\"max_woolf.webp\"), max_size=1024)\n",
    "\n",
    "img_composite = composite_images([img_max, gen_volcano.image], rows=1)\n",
    "img_composite = resize_image(img_composite, max_size=1024)\n",
    "img_composite.save(\"composite_max.webp\")"
   ]
  },
  {
   "cell_type": "code",
   "execution_count": 5,
   "id": "4f227ddf",
   "metadata": {},
   "outputs": [
    {
     "data": {
      "text/plain": [
       "'6HC-aLCQKc3Vz7IP9eeDyAI.png'"
      ]
     },
     "execution_count": 5,
     "metadata": {},
     "output_type": "execute_result"
    }
   ],
   "source": [
    "edit_prompt = \"\"\"\n",
    "Make the person in the first image stand waist-deep in the lava of the second image. The person's arms are raise high in cheer.\n",
    "\n",
    "The lighting of the person must match that of the second image.\n",
    "\"\"\"\n",
    "\n",
    "gen_sheet = g.generate(edit_prompt, [\"max_woolf.webp\", gen_volcano.image])\n",
    "gen_sheet.image_path"
   ]
  },
  {
   "cell_type": "markdown",
   "id": "26d3988a",
   "metadata": {},
   "source": [
    "![](gens/6HC-aLCQKc3Vz7IP9eeDyAI@0.5x.webp)\n"
   ]
  }
 ],
 "metadata": {
  "kernelspec": {
   "display_name": "gemimg",
   "language": "python",
   "name": "python3"
  },
  "language_info": {
   "codemirror_mode": {
    "name": "ipython",
    "version": 3
   },
   "file_extension": ".py",
   "mimetype": "text/x-python",
   "name": "python",
   "nbconvert_exporter": "python",
   "pygments_lexer": "ipython3",
   "version": "3.13.1"
  }
 },
 "nbformat": 4,
 "nbformat_minor": 5
}
