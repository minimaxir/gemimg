{
 "cells": [
  {
   "cell_type": "code",
   "execution_count": 1,
   "id": "27803e1a",
   "metadata": {},
   "outputs": [],
   "source": [
    "from gemimg import GemImg\n",
    "from random import shuffle"
   ]
  },
  {
   "cell_type": "code",
   "execution_count": 2,
   "id": "ec758344",
   "metadata": {},
   "outputs": [
    {
     "data": {
      "text/plain": [
       "GemImg(model='gemini-2.5-flash-image-preview')"
      ]
     },
     "execution_count": 2,
     "metadata": {},
     "output_type": "execute_result"
    }
   ],
   "source": [
    "g = GemImg()\n",
    "g"
   ]
  },
  {
   "cell_type": "markdown",
   "id": "227d03aa",
   "metadata": {},
   "source": [
    "![](../files/pose_control_base.png)\n",
    "\n",
    "Note: The input image with the poses is 16:9, which means the output image should also be 16:9.\n"
   ]
  },
  {
   "cell_type": "code",
   "execution_count": 9,
   "id": "35570e48",
   "metadata": {},
   "outputs": [
    {
     "data": {
      "text/plain": [
       "'qEC-aPT-Joahz7IP07Lo4Qw.png'"
      ]
     },
     "execution_count": 9,
     "metadata": {},
     "output_type": "execute_result"
    }
   ],
   "source": [
    "prompt = \"\"\"\n",
    "Generate an image of characters playing a poker game sitting at a green felt table, directly facing the front. This new image MUST map ALL of the following characters to the poses and facial expressions represented by the specified colors of the provided image:\n",
    "- Green: Spongebob SquarePants\n",
    "- Red: Shadow the Hedgehog\n",
    "- Purple: Pedro Pascal\n",
    "- Pink: Taylor Swift\n",
    "- Blue: The Mona Lisa\n",
    "- Yellow: Evangelion Unit-01 from \"Neon Genesis Evangelion\"\n",
    "\n",
    "The image is an award-winning highly-detailed painting, oil on oaken canvas. All characters MUST adhere to the oil on oaken canvas artistic style, even if this varies from their typical styles. All characters must be present individually in the image.\n",
    "\"\"\"\n",
    "\n",
    "gen = g.generate(prompt, \"pose_control_base.png\")\n",
    "gen.image_path"
   ]
  },
  {
   "cell_type": "markdown",
   "id": "3037ef8c",
   "metadata": {},
   "source": [
    "![](gens/qEC-aPT-Joahz7IP07Lo4Qw.webp)\n"
   ]
  },
  {
   "cell_type": "markdown",
   "id": "355e130d",
   "metadata": {},
   "source": [
    "For fun, generate random mappings of characters to colors just to see how they adhere. (`6! = 720` combinations)\n"
   ]
  },
  {
   "cell_type": "code",
   "execution_count": 10,
   "id": "b6620cdd",
   "metadata": {},
   "outputs": [],
   "source": [
    "characters = [\n",
    "    \"Spongebob SquarePants\",\n",
    "    \"Shadow the Hedgehog\",\n",
    "    \"Pedro Pascal\",\n",
    "    \"Taylor Swift\",\n",
    "    \"The Mona Lisa\",\n",
    "    'Evangelion Unit-01 from \"Neon Genesis Evangelion\"',\n",
    "]\n",
    "\n",
    "prompt_template = \"\"\"\n",
    "Generate an image of characters playing a poker game sitting at a green felt table, directly facing the front. This new image MUST map ALL of the following characters to the poses and facial expressions represented by the specified colors of the provided image:\n",
    "- Green: {0}\n",
    "- Red: {1}\n",
    "- Purple: {2}\n",
    "- Pink: {3}\n",
    "- Blue: {4}\n",
    "- Yellow: {5}\n",
    "\n",
    "The image is an award-winning highly-detailed painting, oil on oaken canvas. All characters MUST adhere to the oil on oaken canvas artistic style, even if this varies from their typical styles. All characters must be present individually in the image.\n",
    "\"\"\""
   ]
  },
  {
   "cell_type": "code",
   "execution_count": 11,
   "id": "02c45a6e",
   "metadata": {},
   "outputs": [
    {
     "data": {
      "text/plain": [
       "'TEG-aKKlKM3Vz7IPn-iDyAI.png'"
      ]
     },
     "execution_count": 11,
     "metadata": {},
     "output_type": "execute_result"
    }
   ],
   "source": [
    "shuffle(characters)\n",
    "gen = g.generate(prompt_template.format(*characters), \"pose_control_base.png\")\n",
    "gen.image_path"
   ]
  },
  {
   "cell_type": "markdown",
   "id": "70bc4a33",
   "metadata": {},
   "source": [
    "![](gens/TEG-aKKlKM3Vz7IPn-iDyAI.webp)\n"
   ]
  },
  {
   "cell_type": "code",
   "execution_count": 12,
   "id": "22356540",
   "metadata": {},
   "outputs": [
    {
     "data": {
      "text/plain": [
       "'cEG-aPzcLf2Hz7IP4bXUgQ4.png'"
      ]
     },
     "execution_count": 12,
     "metadata": {},
     "output_type": "execute_result"
    }
   ],
   "source": [
    "shuffle(characters)\n",
    "gen = g.generate(prompt_template.format(*characters), \"pose_control_base.png\")\n",
    "gen.image_path"
   ]
  },
  {
   "cell_type": "markdown",
   "id": "cfb3f42f",
   "metadata": {},
   "source": [
    "![](gens/cEG-aPzcLf2Hz7IP4bXUgQ4.webp)\n"
   ]
  },
  {
   "cell_type": "code",
   "execution_count": 14,
   "id": "ffafe32a",
   "metadata": {},
   "outputs": [
    {
     "data": {
      "text/plain": [
       "'zEG-aNrHMLOsmtkPztG5kAU.png'"
      ]
     },
     "execution_count": 14,
     "metadata": {},
     "output_type": "execute_result"
    }
   ],
   "source": [
    "shuffle(characters)\n",
    "gen = g.generate(prompt_template.format(*characters), \"pose_control_base.png\")\n",
    "gen.image_path"
   ]
  },
  {
   "cell_type": "markdown",
   "id": "500a98b4",
   "metadata": {},
   "source": [
    "![](gens/zEG-aNrHMLOsmtkPztG5kAU.webp)\n"
   ]
  },
  {
   "cell_type": "code",
   "execution_count": null,
   "id": "1bc458c9",
   "metadata": {},
   "outputs": [],
   "source": []
  }
 ],
 "metadata": {
  "kernelspec": {
   "display_name": "gemimg",
   "language": "python",
   "name": "python3"
  },
  "language_info": {
   "codemirror_mode": {
    "name": "ipython",
    "version": 3
   },
   "file_extension": ".py",
   "mimetype": "text/x-python",
   "name": "python",
   "nbconvert_exporter": "python",
   "pygments_lexer": "ipython3",
   "version": "3.13.1"
  }
 },
 "nbformat": 4,
 "nbformat_minor": 5
}
