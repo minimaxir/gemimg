{
 "cells": [
  {
   "cell_type": "markdown",
   "id": "0122019b",
   "metadata": {},
   "source": [
    "# Storing Prompts in PNG Metadata\n",
    "\n",
    "This notebook demonstrates the `store_prompt` feature in gemimg, which allows you to embed the generation prompt directly into PNG image metadata for reproducibility and tracking.\n"
   ]
  },
  {
   "cell_type": "markdown",
   "id": "3e9d5e91",
   "metadata": {},
   "source": [
    "## Setup\n"
   ]
  },
  {
   "cell_type": "code",
   "execution_count": 1,
   "id": "872b4b06",
   "metadata": {},
   "outputs": [],
   "source": [
    "from gemimg import GemImg\n",
    "from PIL import Image"
   ]
  },
  {
   "cell_type": "code",
   "execution_count": 2,
   "id": "25293197",
   "metadata": {},
   "outputs": [
    {
     "data": {
      "text/plain": [
       "GemImg(model='gemini-2.5-flash-image')"
      ]
     },
     "execution_count": 2,
     "metadata": {},
     "output_type": "execute_result"
    }
   ],
   "source": [
    "g = GemImg()\n",
    "g"
   ]
  },
  {
   "cell_type": "markdown",
   "id": "8ba0a137",
   "metadata": {},
   "source": [
    "## Basic Usage: Generating with Prompt Storage\n",
    "\n",
    "By default, prompts are not stored in images for privacy reasons. If you want to save prompt for archival reasons, simply set `store_prompt=True` when calling `generate()` to embed the prompt into PNG metadata.\n"
   ]
  },
  {
   "cell_type": "code",
   "execution_count": 7,
   "id": "049a3764",
   "metadata": {},
   "outputs": [
    {
     "name": "stdout",
     "output_type": "stream",
     "text": [
      "Image saved to: sEQEaeiWGY3jqtsPnd6K8QM.png\n"
     ]
    }
   ],
   "source": [
    "prompt = \"\"\"\n",
    "Generate an image of a peanut butter and jelly sandwich in the style and shape of a three-dimensional Sierpiński triangle, where the peanut butter and jelly sandwiches each are recursive fractal subtriangles. Professional food photography taken with a Canon EOS 90D DSLR camera.\n",
    "\"\"\"\n",
    "\n",
    "gen = g.generate(prompt, store_prompt=True)\n",
    "print(f\"Image saved to: {gen.image_path}\")"
   ]
  },
  {
   "cell_type": "markdown",
   "id": "e1c0d389",
   "metadata": {},
   "source": [
    "![](gens/sEQEaeiWGY3jqtsPnd6K8QM@0.5x.webp)\n"
   ]
  },
  {
   "cell_type": "markdown",
   "id": "5d14d8fd",
   "metadata": {},
   "source": [
    "## Reading the Prompt from PNG Metadata\n",
    "\n",
    "You can retrieve the stored prompt using PIL's metadata reading capabilities.\n"
   ]
  },
  {
   "cell_type": "code",
   "execution_count": 10,
   "id": "f3d85389",
   "metadata": {},
   "outputs": [
    {
     "name": "stdout",
     "output_type": "stream",
     "text": [
      "Stored prompt: Generate an image of a peanut butter and jelly sandwich in the style and shape of a three-dimensional Sierpiński triangle, where the peanut butter and jelly sandwiches each are recursive fractal subtriangles. Professional food photography taken with a Canon EOS 90D DSLR camera.\n",
      "\n",
      "Matches original? True\n"
     ]
    }
   ],
   "source": [
    "def get_prompt_from_png(image_path: str) -> str:\n",
    "    try:\n",
    "        img = Image.open(image_path)\n",
    "        # PNG metadata is stored in the info dict\n",
    "        if \"gemimg_prompt\" in img.info:\n",
    "            return img.info[\"gemimg_prompt\"]\n",
    "        else:\n",
    "            return None\n",
    "    except Exception as e:\n",
    "        print(f\"Error reading metadata: {e}\")\n",
    "        return None\n",
    "\n",
    "\n",
    "# Retrieve the prompt from the generated image\n",
    "stored_prompt = get_prompt_from_png(gen.image_path)\n",
    "print(f\"Stored prompt: {stored_prompt}\")\n",
    "print(f\"\\nMatches original? {stored_prompt == prompt.strip()}\")"
   ]
  },
  {
   "cell_type": "markdown",
   "id": "4cab3df4",
   "metadata": {},
   "source": [
    "## Note: PNG Only\n",
    "\n",
    "The `store_prompt` feature is designed for PNG files only. If you use `webp=True`, the prompt will not be stored in metadata.\n"
   ]
  }
 ],
 "metadata": {
  "kernelspec": {
   "display_name": "gemimg",
   "language": "python",
   "name": "python3"
  },
  "language_info": {
   "codemirror_mode": {
    "name": "ipython",
    "version": 3
   },
   "file_extension": ".py",
   "mimetype": "text/x-python",
   "name": "python",
   "nbconvert_exporter": "python",
   "pygments_lexer": "ipython3",
   "version": "3.13.7"
  }
 },
 "nbformat": 4,
 "nbformat_minor": 5
}
